{
  "nbformat": 4,
  "nbformat_minor": 0,
  "metadata": {
    "colab": {
      "name": "GL_Pneumonia_Detection_Capstone_model.ipynb",
      "provenance": [],
      "collapsed_sections": []
    },
    "kernelspec": {
      "name": "python3",
      "display_name": "Python 3"
    },
    "accelerator": "TPU"
  },
  "cells": [
    {
      "cell_type": "code",
      "metadata": {
        "id": "FhORu1fApEeU",
        "colab_type": "code",
        "colab": {}
      },
      "source": [
        "#!pip install pydicom"
      ],
      "execution_count": 1,
      "outputs": []
    },
    {
      "cell_type": "code",
      "metadata": {
        "id": "0zzPJUeEpRCE",
        "colab_type": "code",
        "colab": {
          "base_uri": "https://localhost:8080/",
          "height": 34
        },
        "outputId": "b9a5bcfd-8f37-401a-a314-9b7d02c8f19b"
      },
      "source": [
        "import pandas as pd\n",
        "import matplotlib.pyplot as plt\n",
        "#import pydicom\n",
        "#from pydicom.data import get_testdata_files\n",
        "import cv2\n",
        "from zipfile import ZipFile\n",
        "import os\n",
        "import numpy as np\n",
        "from keras.preprocessing.image import img_to_array\n",
        "from keras.utils import to_categorical\n",
        "from sklearn.model_selection import train_test_split\n",
        "from tqdm import tqdm as tqdm\n",
        "#Tensorboard"
      ],
      "execution_count": 3,
      "outputs": [
        {
          "output_type": "stream",
          "text": [
            "Using TensorFlow backend.\n"
          ],
          "name": "stderr"
        }
      ]
    },
    {
      "cell_type": "code",
      "metadata": {
        "id": "xNSdHKstpXL6",
        "colab_type": "code",
        "colab": {
          "base_uri": "https://localhost:8080/",
          "height": 122
        },
        "outputId": "69dc9ac9-e1ca-4cf4-e75d-9ff65d1eb081"
      },
      "source": [
        "from google.colab import drive\n",
        "drive.mount('/content/drive/')"
      ],
      "execution_count": 4,
      "outputs": [
        {
          "output_type": "stream",
          "text": [
            "Go to this URL in a browser: https://accounts.google.com/o/oauth2/auth?client_id=947318989803-6bn6qk8qdgf4n4g3pfee6491hc0brc4i.apps.googleusercontent.com&redirect_uri=urn%3aietf%3awg%3aoauth%3a2.0%3aoob&response_type=code&scope=email%20https%3a%2f%2fwww.googleapis.com%2fauth%2fdocs.test%20https%3a%2f%2fwww.googleapis.com%2fauth%2fdrive%20https%3a%2f%2fwww.googleapis.com%2fauth%2fdrive.photos.readonly%20https%3a%2f%2fwww.googleapis.com%2fauth%2fpeopleapi.readonly\n",
            "\n",
            "Enter your authorization code:\n",
            "··········\n",
            "Mounted at /content/drive/\n"
          ],
          "name": "stdout"
        }
      ]
    },
    {
      "cell_type": "code",
      "metadata": {
        "id": "IQizz53IphNt",
        "colab_type": "code",
        "colab": {}
      },
      "source": [
        "rootDir = '/content/drive/My Drive/Project_Pneumonia_Detection/'"
      ],
      "execution_count": 5,
      "outputs": []
    },
    {
      "cell_type": "markdown",
      "metadata": {
        "id": "XkPo5S0BG4Ii",
        "colab_type": "text"
      },
      "source": [
        "Converting the images to a jpg format is a one time activity, which has been compleated"
      ]
    },
    {
      "cell_type": "code",
      "metadata": {
        "id": "u9gQDWVCpv2d",
        "colab_type": "code",
        "colab": {}
      },
      "source": [
        "#with ZipFile('/content/drive/My Drive/Project_Pneumonia_Detection/stage_2_train_images.zip', 'r') as f:\n",
        "#  for name in tqdm(f.namelist()):\n",
        "#    x=f.extract(name)\n",
        "#    dataset = pydicom.dcmread(x)\n",
        "#    img2=dataset.pixel_array\n",
        "#    name=name.split('.')[0]\n",
        "    #print (name)\n",
        "#    cv2.imwrite(f\"/content/drive/My Drive/Project_Pneumonia_Detection/xray_train/{name}.jpg\",img2) # create a folder xray2"
      ],
      "execution_count": 6,
      "outputs": []
    },
    {
      "cell_type": "code",
      "metadata": {
        "id": "lusiGDDzLyjP",
        "colab_type": "code",
        "colab": {}
      },
      "source": [
        "#with ZipFile('/content/drive/My Drive/Project_Pneumonia_Detection/stage_2_test_images.zip', 'r') as f:\n",
        "#  for name in tqdm(f.namelist()):\n",
        "#    x=f.extract(name)\n",
        "    #print(name)\n",
        "#    dataset = pydicom.dcmread(x)\n",
        "#    img2=dataset.pixel_array\n",
        "#    name=name.split('.')[0]\n",
        "    #print (name)\n",
        "#    cv2.imwrite(f\"/content/drive/My Drive/Project_Pneumonia_Detection/xray_test/{name}.jpg\",img2) # create a folder xray2"
      ],
      "execution_count": 7,
      "outputs": []
    },
    {
      "cell_type": "code",
      "metadata": {
        "id": "V88kHKxjr7qf",
        "colab_type": "code",
        "colab": {}
      },
      "source": [
        "minfo = pd.read_csv(rootDir + 'metadata_train_new.csv')"
      ],
      "execution_count": 8,
      "outputs": []
    },
    {
      "cell_type": "code",
      "metadata": {
        "id": "cBn_nUmBsEDJ",
        "colab_type": "code",
        "colab": {}
      },
      "source": [
        "meta_pne = minfo.loc[minfo['class']==1]"
      ],
      "execution_count": 9,
      "outputs": []
    },
    {
      "cell_type": "code",
      "metadata": {
        "id": "oGJZs046si4-",
        "colab_type": "code",
        "colab": {
          "base_uri": "https://localhost:8080/",
          "height": 34
        },
        "outputId": "d9f4eb03-77bd-4cb6-f6b6-80e305a6bc1d"
      },
      "source": [
        "print(len(meta_pne))"
      ],
      "execution_count": 10,
      "outputs": [
        {
          "output_type": "stream",
          "text": [
            "6012\n"
          ],
          "name": "stdout"
        }
      ]
    },
    {
      "cell_type": "code",
      "metadata": {
        "id": "zK1Af8b4tSdH",
        "colab_type": "code",
        "colab": {
          "base_uri": "https://localhost:8080/",
          "height": 306
        },
        "outputId": "cf7c012e-bc58-415b-c38f-bc03b04a3ceb"
      },
      "source": [
        "meta_pne.info()"
      ],
      "execution_count": 11,
      "outputs": [
        {
          "output_type": "stream",
          "text": [
            "<class 'pandas.core.frame.DataFrame'>\n",
            "Int64Index: 6012 entries, 2 to 26679\n",
            "Data columns (total 10 columns):\n",
            " #   Column        Non-Null Count  Dtype  \n",
            "---  ------        --------------  -----  \n",
            " 0   patientid     6012 non-null   object \n",
            " 1   dob           0 non-null      float64\n",
            " 2   gender        6012 non-null   object \n",
            " 3   age           6012 non-null   int64  \n",
            " 4   bodypart      6012 non-null   object \n",
            " 5   viewposition  6012 non-null   object \n",
            " 6   rows          6012 non-null   int64  \n",
            " 7   columns       6012 non-null   int64  \n",
            " 8   opacityclass  6012 non-null   object \n",
            " 9   class         6012 non-null   int64  \n",
            "dtypes: float64(1), int64(4), object(5)\n",
            "memory usage: 516.7+ KB\n"
          ],
          "name": "stdout"
        }
      ]
    },
    {
      "cell_type": "code",
      "metadata": {
        "id": "gKoWNuDQ6Ggz",
        "colab_type": "code",
        "colab": {}
      },
      "source": [
        "# mydata=pd.read_csv('/content/drive/My Drive/Project_Pneumonia_Detection/stage_2_detailed_class_info.csv')\n",
        "# mydata=mydata[0:20]\n",
        "#mydata=meta_pne[0:1300]\n",
        "mydata=meta_pne\n",
        "#mydata=meta_pne"
      ],
      "execution_count": 12,
      "outputs": []
    },
    {
      "cell_type": "code",
      "metadata": {
        "id": "IJg3Q4ps36cn",
        "colab_type": "code",
        "colab": {
          "base_uri": "https://localhost:8080/",
          "height": 204
        },
        "outputId": "ddf99a91-f267-4f88-d99b-cbaaaad28336"
      },
      "source": [
        "mydata.head()"
      ],
      "execution_count": 13,
      "outputs": [
        {
          "output_type": "execute_result",
          "data": {
            "text/html": [
              "<div>\n",
              "<style scoped>\n",
              "    .dataframe tbody tr th:only-of-type {\n",
              "        vertical-align: middle;\n",
              "    }\n",
              "\n",
              "    .dataframe tbody tr th {\n",
              "        vertical-align: top;\n",
              "    }\n",
              "\n",
              "    .dataframe thead th {\n",
              "        text-align: right;\n",
              "    }\n",
              "</style>\n",
              "<table border=\"1\" class=\"dataframe\">\n",
              "  <thead>\n",
              "    <tr style=\"text-align: right;\">\n",
              "      <th></th>\n",
              "      <th>patientid</th>\n",
              "      <th>dob</th>\n",
              "      <th>gender</th>\n",
              "      <th>age</th>\n",
              "      <th>bodypart</th>\n",
              "      <th>viewposition</th>\n",
              "      <th>rows</th>\n",
              "      <th>columns</th>\n",
              "      <th>opacityclass</th>\n",
              "      <th>class</th>\n",
              "    </tr>\n",
              "  </thead>\n",
              "  <tbody>\n",
              "    <tr>\n",
              "      <th>2</th>\n",
              "      <td>000db696-cf54-4385-b10b-6b16fbb3f985</td>\n",
              "      <td>NaN</td>\n",
              "      <td>F</td>\n",
              "      <td>25</td>\n",
              "      <td>CHEST</td>\n",
              "      <td>AP</td>\n",
              "      <td>1024</td>\n",
              "      <td>1024</td>\n",
              "      <td>Lung Opacity</td>\n",
              "      <td>1</td>\n",
              "    </tr>\n",
              "    <tr>\n",
              "      <th>3</th>\n",
              "      <td>000fe35a-2649-43d4-b027-e67796d412e0</td>\n",
              "      <td>NaN</td>\n",
              "      <td>M</td>\n",
              "      <td>40</td>\n",
              "      <td>CHEST</td>\n",
              "      <td>AP</td>\n",
              "      <td>1024</td>\n",
              "      <td>1024</td>\n",
              "      <td>Lung Opacity</td>\n",
              "      <td>1</td>\n",
              "    </tr>\n",
              "    <tr>\n",
              "      <th>4</th>\n",
              "      <td>001031d9-f904-4a23-b3e5-2c088acd19c6</td>\n",
              "      <td>NaN</td>\n",
              "      <td>M</td>\n",
              "      <td>57</td>\n",
              "      <td>CHEST</td>\n",
              "      <td>PA</td>\n",
              "      <td>1024</td>\n",
              "      <td>1024</td>\n",
              "      <td>Lung Opacity</td>\n",
              "      <td>1</td>\n",
              "    </tr>\n",
              "    <tr>\n",
              "      <th>6</th>\n",
              "      <td>001916b8-3d30-4935-a5d1-8eaddb1646cd</td>\n",
              "      <td>NaN</td>\n",
              "      <td>F</td>\n",
              "      <td>76</td>\n",
              "      <td>CHEST</td>\n",
              "      <td>AP</td>\n",
              "      <td>1024</td>\n",
              "      <td>1024</td>\n",
              "      <td>Lung Opacity</td>\n",
              "      <td>1</td>\n",
              "    </tr>\n",
              "    <tr>\n",
              "      <th>7</th>\n",
              "      <td>0022073f-cec8-42ec-ab5f-bc2314649235</td>\n",
              "      <td>NaN</td>\n",
              "      <td>M</td>\n",
              "      <td>31</td>\n",
              "      <td>CHEST</td>\n",
              "      <td>AP</td>\n",
              "      <td>1024</td>\n",
              "      <td>1024</td>\n",
              "      <td>Lung Opacity</td>\n",
              "      <td>1</td>\n",
              "    </tr>\n",
              "  </tbody>\n",
              "</table>\n",
              "</div>"
            ],
            "text/plain": [
              "                              patientid  dob  ...  opacityclass  class\n",
              "2  000db696-cf54-4385-b10b-6b16fbb3f985  NaN  ...  Lung Opacity      1\n",
              "3  000fe35a-2649-43d4-b027-e67796d412e0  NaN  ...  Lung Opacity      1\n",
              "4  001031d9-f904-4a23-b3e5-2c088acd19c6  NaN  ...  Lung Opacity      1\n",
              "6  001916b8-3d30-4935-a5d1-8eaddb1646cd  NaN  ...  Lung Opacity      1\n",
              "7  0022073f-cec8-42ec-ab5f-bc2314649235  NaN  ...  Lung Opacity      1\n",
              "\n",
              "[5 rows x 10 columns]"
            ]
          },
          "metadata": {
            "tags": []
          },
          "execution_count": 13
        }
      ]
    },
    {
      "cell_type": "code",
      "metadata": {
        "id": "04qfbSNnAM0A",
        "colab_type": "code",
        "colab": {}
      },
      "source": [
        "# #mydata containg the data which is of class = 1\n",
        "\n",
        "# train_image=[]\n",
        "\n",
        "# for ind in tqdm(mydata.index):\n",
        "#   # clas=class_data2['class'][ind]\n",
        "#   # if(clas==1):\n",
        "#     patient_id=mydata['patientid'][ind]\n",
        "#     img=cv2.imread(f\"/content/drive/My Drive/Project_Pneumonia_Detection/xray_train/{patient_id}.jpg\")\n",
        "#     img = cv2.resize(img, dsize=(224, 224), interpolation=cv2.INTER_CUBIC)\n",
        "\n",
        "#     train_image.append(img)\n",
        "# train_image=np.array(train_image)"
      ],
      "execution_count": 14,
      "outputs": []
    },
    {
      "cell_type": "code",
      "metadata": {
        "id": "e0IJB9otskVF",
        "colab_type": "code",
        "colab": {}
      },
      "source": [
        "# save the train_image as npy file\n",
        "# from numpy import save #added to save the date in npy\n",
        "# save(rootDir +'train_image_data.npy', train_image)"
      ],
      "execution_count": 15,
      "outputs": []
    },
    {
      "cell_type": "code",
      "metadata": {
        "id": "4nO6BiCPyYNr",
        "colab_type": "code",
        "colab": {}
      },
      "source": [
        "#load the train_image saved earlier\n",
        "train_image = np.load(rootDir +'train_image_data.npy')"
      ],
      "execution_count": 16,
      "outputs": []
    },
    {
      "cell_type": "code",
      "metadata": {
        "id": "yEAWQQkRzs6M",
        "colab_type": "code",
        "colab": {
          "base_uri": "https://localhost:8080/",
          "height": 1000
        },
        "outputId": "5d9c396b-cbb9-4003-91cd-075dffbc4a2a"
      },
      "source": [
        "print(train_image)"
      ],
      "execution_count": 17,
      "outputs": [
        {
          "output_type": "stream",
          "text": [
            "[[[[  3   3   3]\n",
            "   [  3   3   3]\n",
            "   [  3   3   3]\n",
            "   ...\n",
            "   [  7   7   7]\n",
            "   [  5   5   5]\n",
            "   [  5   5   5]]\n",
            "\n",
            "  [[  3   3   3]\n",
            "   [  3   3   3]\n",
            "   [  3   3   3]\n",
            "   ...\n",
            "   [  6   6   6]\n",
            "   [  6   6   6]\n",
            "   [  6   6   6]]\n",
            "\n",
            "  [[  3   3   3]\n",
            "   [  3   3   3]\n",
            "   [  3   3   3]\n",
            "   ...\n",
            "   [  6   6   6]\n",
            "   [  6   6   6]\n",
            "   [  6   6   6]]\n",
            "\n",
            "  ...\n",
            "\n",
            "  [[ 48  48  48]\n",
            "   [ 29  29  29]\n",
            "   [ 24  24  24]\n",
            "   ...\n",
            "   [144 144 144]\n",
            "   [145 145 145]\n",
            "   [144 144 144]]\n",
            "\n",
            "  [[ 44  44  44]\n",
            "   [ 36  36  36]\n",
            "   [ 19  19  19]\n",
            "   ...\n",
            "   [142 142 142]\n",
            "   [143 143 143]\n",
            "   [141 141 141]]\n",
            "\n",
            "  [[ 73  73  73]\n",
            "   [ 32  32  32]\n",
            "   [ 20  20  20]\n",
            "   ...\n",
            "   [143 143 143]\n",
            "   [139 139 139]\n",
            "   [145 145 145]]]\n",
            "\n",
            "\n",
            " [[[ 16  16  16]\n",
            "   [ 17  17  17]\n",
            "   [ 18  18  18]\n",
            "   ...\n",
            "   [ 19  19  19]\n",
            "   [ 20  20  20]\n",
            "   [  0   0   0]]\n",
            "\n",
            "  [[ 15  15  15]\n",
            "   [ 17  17  17]\n",
            "   [ 18  18  18]\n",
            "   ...\n",
            "   [ 17  17  17]\n",
            "   [ 19  19  19]\n",
            "   [  0   0   0]]\n",
            "\n",
            "  [[ 15  15  15]\n",
            "   [ 16  16  16]\n",
            "   [ 15  15  15]\n",
            "   ...\n",
            "   [ 17  17  17]\n",
            "   [ 18  18  18]\n",
            "   [  0   0   0]]\n",
            "\n",
            "  ...\n",
            "\n",
            "  [[ 35  35  35]\n",
            "   [ 51  51  51]\n",
            "   [ 69  69  69]\n",
            "   ...\n",
            "   [153 153 153]\n",
            "   [162 162 162]\n",
            "   [  1   1   1]]\n",
            "\n",
            "  [[ 34  34  34]\n",
            "   [ 52  52  52]\n",
            "   [ 68  68  68]\n",
            "   ...\n",
            "   [147 147 147]\n",
            "   [169 169 169]\n",
            "   [  0   0   0]]\n",
            "\n",
            "  [[ 35  35  35]\n",
            "   [ 53  53  53]\n",
            "   [ 64  64  64]\n",
            "   ...\n",
            "   [152 152 152]\n",
            "   [164 164 164]\n",
            "   [  3   3   3]]]\n",
            "\n",
            "\n",
            " [[[  0   0   0]\n",
            "   [  0   0   0]\n",
            "   [  0   0   0]\n",
            "   ...\n",
            "   [ 21  21  21]\n",
            "   [ 21  21  21]\n",
            "   [ 22  22  22]]\n",
            "\n",
            "  [[  0   0   0]\n",
            "   [  0   0   0]\n",
            "   [  0   0   0]\n",
            "   ...\n",
            "   [ 22  22  22]\n",
            "   [ 21  21  21]\n",
            "   [ 21  21  21]]\n",
            "\n",
            "  [[  0   0   0]\n",
            "   [  0   0   0]\n",
            "   [  0   0   0]\n",
            "   ...\n",
            "   [ 20  20  20]\n",
            "   [ 20  20  20]\n",
            "   [ 21  21  21]]\n",
            "\n",
            "  ...\n",
            "\n",
            "  [[  0   0   0]\n",
            "   [  0   0   0]\n",
            "   [  0   0   0]\n",
            "   ...\n",
            "   [ 36  36  36]\n",
            "   [ 36  36  36]\n",
            "   [ 38  38  38]]\n",
            "\n",
            "  [[  0   0   0]\n",
            "   [  0   0   0]\n",
            "   [  0   0   0]\n",
            "   ...\n",
            "   [  0   0   0]\n",
            "   [  0   0   0]\n",
            "   [  0   0   0]]\n",
            "\n",
            "  [[  0   0   0]\n",
            "   [  0   0   0]\n",
            "   [  0   0   0]\n",
            "   ...\n",
            "   [  0   0   0]\n",
            "   [  0   0   0]\n",
            "   [  0   0   0]]]\n",
            "\n",
            "\n",
            " ...\n",
            "\n",
            "\n",
            " [[[ 16  16  16]\n",
            "   [  4   4   4]\n",
            "   [ 21  21  21]\n",
            "   ...\n",
            "   [  7   7   7]\n",
            "   [  5   5   5]\n",
            "   [  6   6   6]]\n",
            "\n",
            "  [[ 20  20  20]\n",
            "   [  6   6   6]\n",
            "   [  3   3   3]\n",
            "   ...\n",
            "   [  5   5   5]\n",
            "   [  5   5   5]\n",
            "   [  5   5   5]]\n",
            "\n",
            "  [[ 47  47  47]\n",
            "   [  3   3   3]\n",
            "   [  4   4   4]\n",
            "   ...\n",
            "   [  6   6   6]\n",
            "   [  5   5   5]\n",
            "   [  6   6   6]]\n",
            "\n",
            "  ...\n",
            "\n",
            "  [[ 44  44  44]\n",
            "   [ 48  48  48]\n",
            "   [ 55  55  55]\n",
            "   ...\n",
            "   [ 78  78  78]\n",
            "   [ 67  67  67]\n",
            "   [ 50  50  50]]\n",
            "\n",
            "  [[ 40  40  40]\n",
            "   [ 43  43  43]\n",
            "   [ 52  52  52]\n",
            "   ...\n",
            "   [ 87  87  87]\n",
            "   [ 71  71  71]\n",
            "   [ 52  52  52]]\n",
            "\n",
            "  [[ 40  40  40]\n",
            "   [ 42  42  42]\n",
            "   [ 57  57  57]\n",
            "   ...\n",
            "   [ 90  90  90]\n",
            "   [ 73  73  73]\n",
            "   [ 55  55  55]]]\n",
            "\n",
            "\n",
            " [[[ 13  13  13]\n",
            "   [ 16  16  16]\n",
            "   [ 20  20  20]\n",
            "   ...\n",
            "   [ 22  22  22]\n",
            "   [ 21  21  21]\n",
            "   [ 19  19  19]]\n",
            "\n",
            "  [[ 13  13  13]\n",
            "   [ 14  14  14]\n",
            "   [ 17  17  17]\n",
            "   ...\n",
            "   [ 23  23  23]\n",
            "   [ 23  23  23]\n",
            "   [ 22  22  22]]\n",
            "\n",
            "  [[ 17  17  17]\n",
            "   [ 15  15  15]\n",
            "   [ 17  17  17]\n",
            "   ...\n",
            "   [ 27  27  27]\n",
            "   [ 24  24  24]\n",
            "   [ 22  22  22]]\n",
            "\n",
            "  ...\n",
            "\n",
            "  [[  1   1   1]\n",
            "   [  1   1   1]\n",
            "   [  1   1   1]\n",
            "   ...\n",
            "   [117 117 117]\n",
            "   [108 108 108]\n",
            "   [103 103 103]]\n",
            "\n",
            "  [[  1   1   1]\n",
            "   [  1   1   1]\n",
            "   [  1   1   1]\n",
            "   ...\n",
            "   [122 122 122]\n",
            "   [110 110 110]\n",
            "   [107 107 107]]\n",
            "\n",
            "  [[  1   1   1]\n",
            "   [  1   1   1]\n",
            "   [  1   1   1]\n",
            "   ...\n",
            "   [128 128 128]\n",
            "   [121 121 121]\n",
            "   [112 112 112]]]\n",
            "\n",
            "\n",
            " [[[  6   6   6]\n",
            "   [  4   4   4]\n",
            "   [  5   5   5]\n",
            "   ...\n",
            "   [ 13  13  13]\n",
            "   [ 12  12  12]\n",
            "   [ 11  11  11]]\n",
            "\n",
            "  [[  6   6   6]\n",
            "   [  5   5   5]\n",
            "   [  4   4   4]\n",
            "   ...\n",
            "   [ 12  12  12]\n",
            "   [ 11  11  11]\n",
            "   [ 12  12  12]]\n",
            "\n",
            "  [[  4   4   4]\n",
            "   [  4   4   4]\n",
            "   [  5   5   5]\n",
            "   ...\n",
            "   [ 11  11  11]\n",
            "   [ 11  11  11]\n",
            "   [ 12  12  12]]\n",
            "\n",
            "  ...\n",
            "\n",
            "  [[ 79  79  79]\n",
            "   [ 69  69  69]\n",
            "   [ 67  67  67]\n",
            "   ...\n",
            "   [  4   4   4]\n",
            "   [  4   4   4]\n",
            "   [  4   4   4]]\n",
            "\n",
            "  [[ 76  76  76]\n",
            "   [ 77  77  77]\n",
            "   [ 68  68  68]\n",
            "   ...\n",
            "   [  4   4   4]\n",
            "   [  5   5   5]\n",
            "   [  5   5   5]]\n",
            "\n",
            "  [[ 75  75  75]\n",
            "   [ 78  78  78]\n",
            "   [ 73  73  73]\n",
            "   ...\n",
            "   [  5   5   5]\n",
            "   [  6   6   6]\n",
            "   [  6   6   6]]]]\n"
          ],
          "name": "stdout"
        }
      ]
    },
    {
      "cell_type": "code",
      "metadata": {
        "id": "JUoEr9_sF2yI",
        "colab_type": "code",
        "colab": {
          "base_uri": "https://localhost:8080/",
          "height": 34
        },
        "outputId": "bcc18a3b-c008-464e-9813-0f28c7d97a61"
      },
      "source": [
        "print(train_image.shape)"
      ],
      "execution_count": 18,
      "outputs": [
        {
          "output_type": "stream",
          "text": [
            "(6012, 224, 224, 3)\n"
          ],
          "name": "stdout"
        }
      ]
    },
    {
      "cell_type": "code",
      "metadata": {
        "id": "cwz-8Kt0GDuJ",
        "colab_type": "code",
        "colab": {
          "base_uri": "https://localhost:8080/",
          "height": 286
        },
        "outputId": "e4fc3726-56e1-4d07-9186-c83810085a02"
      },
      "source": [
        "plt.imshow(train_image[2])"
      ],
      "execution_count": 19,
      "outputs": [
        {
          "output_type": "execute_result",
          "data": {
            "text/plain": [
              "<matplotlib.image.AxesImage at 0x7fed4128dcf8>"
            ]
          },
          "metadata": {
            "tags": []
          },
          "execution_count": 19
        },
        {
          "output_type": "display_data",
          "data": {
            "image/png": "[encoded data removed]",
            "text/plain": [
              "<Figure size 432x288 with 1 Axes>"
            ]
          },
          "metadata": {
            "tags": [],
            "needs_background": "light"
          }
        }
      ]
    },
    {
      "cell_type": "code",
      "metadata": {
        "id": "oqjpHvJVGhAd",
        "colab_type": "code",
        "colab": {}
      },
      "source": [
        "label_data=pd.read_csv('/content/drive/My Drive/Project_Pneumonia_Detection/stage_2_train_labels.csv')"
      ],
      "execution_count": 20,
      "outputs": []
    },
    {
      "cell_type": "code",
      "metadata": {
        "id": "fTiMvSHeYH9x",
        "colab_type": "code",
        "colab": {
          "base_uri": "https://localhost:8080/",
          "height": 204
        },
        "outputId": "6c9d6baa-f0c3-4642-8610-c95c75e7afce"
      },
      "source": [
        "label_data.head()"
      ],
      "execution_count": 21,
      "outputs": [
        {
          "output_type": "execute_result",
          "data": {
            "text/html": [
              "<div>\n",
              "<style scoped>\n",
              "    .dataframe tbody tr th:only-of-type {\n",
              "        vertical-align: middle;\n",
              "    }\n",
              "\n",
              "    .dataframe tbody tr th {\n",
              "        vertical-align: top;\n",
              "    }\n",
              "\n",
              "    .dataframe thead th {\n",
              "        text-align: right;\n",
              "    }\n",
              "</style>\n",
              "<table border=\"1\" class=\"dataframe\">\n",
              "  <thead>\n",
              "    <tr style=\"text-align: right;\">\n",
              "      <th></th>\n",
              "      <th>patientId</th>\n",
              "      <th>x</th>\n",
              "      <th>y</th>\n",
              "      <th>width</th>\n",
              "      <th>height</th>\n",
              "      <th>Target</th>\n",
              "    </tr>\n",
              "  </thead>\n",
              "  <tbody>\n",
              "    <tr>\n",
              "      <th>0</th>\n",
              "      <td>0004cfab-14fd-4e49-80ba-63a80b6bddd6</td>\n",
              "      <td>NaN</td>\n",
              "      <td>NaN</td>\n",
              "      <td>NaN</td>\n",
              "      <td>NaN</td>\n",
              "      <td>0</td>\n",
              "    </tr>\n",
              "    <tr>\n",
              "      <th>1</th>\n",
              "      <td>000924cf-0f8d-42bd-9158-1af53881a557</td>\n",
              "      <td>NaN</td>\n",
              "      <td>NaN</td>\n",
              "      <td>NaN</td>\n",
              "      <td>NaN</td>\n",
              "      <td>0</td>\n",
              "    </tr>\n",
              "    <tr>\n",
              "      <th>2</th>\n",
              "      <td>000db696-cf54-4385-b10b-6b16fbb3f985</td>\n",
              "      <td>316.0</td>\n",
              "      <td>318.0</td>\n",
              "      <td>170.0</td>\n",
              "      <td>478.0</td>\n",
              "      <td>1</td>\n",
              "    </tr>\n",
              "    <tr>\n",
              "      <th>3</th>\n",
              "      <td>000db696-cf54-4385-b10b-6b16fbb3f985</td>\n",
              "      <td>660.0</td>\n",
              "      <td>375.0</td>\n",
              "      <td>146.0</td>\n",
              "      <td>402.0</td>\n",
              "      <td>1</td>\n",
              "    </tr>\n",
              "    <tr>\n",
              "      <th>4</th>\n",
              "      <td>000fe35a-2649-43d4-b027-e67796d412e0</td>\n",
              "      <td>570.0</td>\n",
              "      <td>282.0</td>\n",
              "      <td>269.0</td>\n",
              "      <td>409.0</td>\n",
              "      <td>1</td>\n",
              "    </tr>\n",
              "  </tbody>\n",
              "</table>\n",
              "</div>"
            ],
            "text/plain": [
              "                              patientId      x      y  width  height  Target\n",
              "0  0004cfab-14fd-4e49-80ba-63a80b6bddd6    NaN    NaN    NaN     NaN       0\n",
              "1  000924cf-0f8d-42bd-9158-1af53881a557    NaN    NaN    NaN     NaN       0\n",
              "2  000db696-cf54-4385-b10b-6b16fbb3f985  316.0  318.0  170.0   478.0       1\n",
              "3  000db696-cf54-4385-b10b-6b16fbb3f985  660.0  375.0  146.0   402.0       1\n",
              "4  000fe35a-2649-43d4-b027-e67796d412e0  570.0  282.0  269.0   409.0       1"
            ]
          },
          "metadata": {
            "tags": []
          },
          "execution_count": 21
        }
      ]
    },
    {
      "cell_type": "code",
      "metadata": {
        "id": "Q4NTyFtvOmXf",
        "colab_type": "code",
        "colab": {}
      },
      "source": [
        "# train_mask=[]\n",
        "# pid=[]\n",
        "\n",
        "# scale=224/1024\n",
        "# for ind in tqdm(mydata.index): # class_data2 replaced with mydata\n",
        "#   clas=mydata['class'][ind]\n",
        "\n",
        "#   if(clas==1):\n",
        "#     patient_id=mydata['patientid'][ind]\n",
        "#     #print(patient_id)\n",
        "#     pid.append(patient_id)\n",
        "#     ld=label_data.loc[label_data['patientId'] == patient_id]\n",
        "#     #print(ld)\n",
        "#     z=np.zeros((224,224),np.uint8)\n",
        "#     z=np.array(z,dtype=float)\n",
        "#     for ind in tqdm(ld.index):\n",
        "#       xmin=ld['x'][ind]*scale\n",
        "#       ymin=ld['y'][ind]*scale\n",
        "#       width=ld['width'][ind]*scale\n",
        "#       height=ld['height'][ind]*scale\n",
        "#       target=ld['Target'][ind]\n",
        "#       z[int(ymin):int(ymin+height), int(xmin):int(xmin+width)] = 1\n",
        "#     train_mask.append(z)\n",
        "# train_mask=np.array(train_mask)"
      ],
      "execution_count": 22,
      "outputs": []
    },
    {
      "cell_type": "code",
      "metadata": {
        "id": "3lD_OscK1g87",
        "colab_type": "code",
        "colab": {}
      },
      "source": [
        "#save the train_image as npy file\n",
        "# from numpy import save #added to save the date in npy\n",
        "# save(rootDir +'train_mask_data.npy', train_mask)"
      ],
      "execution_count": 24,
      "outputs": []
    },
    {
      "cell_type": "code",
      "metadata": {
        "id": "BRcQtTCf8afh",
        "colab_type": "code",
        "colab": {}
      },
      "source": [
        "#load the train_mask saved earlier\n",
        "train_mask = np.load(rootDir +'train_mask_data.npy')"
      ],
      "execution_count": 25,
      "outputs": []
    },
    {
      "cell_type": "code",
      "metadata": {
        "id": "RMXtQjGo8x3i",
        "colab_type": "code",
        "colab": {
          "base_uri": "https://localhost:8080/",
          "height": 850
        },
        "outputId": "f70c2ce2-9a32-40ee-ee2d-cea98632ac3d"
      },
      "source": [
        "print(train_mask)"
      ],
      "execution_count": 26,
      "outputs": [
        {
          "output_type": "stream",
          "text": [
            "[[[0. 0. 0. ... 0. 0. 0.]\n",
            "  [0. 0. 0. ... 0. 0. 0.]\n",
            "  [0. 0. 0. ... 0. 0. 0.]\n",
            "  ...\n",
            "  [0. 0. 0. ... 0. 0. 0.]\n",
            "  [0. 0. 0. ... 0. 0. 0.]\n",
            "  [0. 0. 0. ... 0. 0. 0.]]\n",
            "\n",
            " [[0. 0. 0. ... 0. 0. 0.]\n",
            "  [0. 0. 0. ... 0. 0. 0.]\n",
            "  [0. 0. 0. ... 0. 0. 0.]\n",
            "  ...\n",
            "  [0. 0. 0. ... 0. 0. 0.]\n",
            "  [0. 0. 0. ... 0. 0. 0.]\n",
            "  [0. 0. 0. ... 0. 0. 0.]]\n",
            "\n",
            " [[0. 0. 0. ... 0. 0. 0.]\n",
            "  [0. 0. 0. ... 0. 0. 0.]\n",
            "  [0. 0. 0. ... 0. 0. 0.]\n",
            "  ...\n",
            "  [0. 0. 0. ... 0. 0. 0.]\n",
            "  [0. 0. 0. ... 0. 0. 0.]\n",
            "  [0. 0. 0. ... 0. 0. 0.]]\n",
            "\n",
            " ...\n",
            "\n",
            " [[0. 0. 0. ... 0. 0. 0.]\n",
            "  [0. 0. 0. ... 0. 0. 0.]\n",
            "  [0. 0. 0. ... 0. 0. 0.]\n",
            "  ...\n",
            "  [0. 0. 0. ... 0. 0. 0.]\n",
            "  [0. 0. 0. ... 0. 0. 0.]\n",
            "  [0. 0. 0. ... 0. 0. 0.]]\n",
            "\n",
            " [[0. 0. 0. ... 0. 0. 0.]\n",
            "  [0. 0. 0. ... 0. 0. 0.]\n",
            "  [0. 0. 0. ... 0. 0. 0.]\n",
            "  ...\n",
            "  [0. 0. 0. ... 0. 0. 0.]\n",
            "  [0. 0. 0. ... 0. 0. 0.]\n",
            "  [0. 0. 0. ... 0. 0. 0.]]\n",
            "\n",
            " [[0. 0. 0. ... 0. 0. 0.]\n",
            "  [0. 0. 0. ... 0. 0. 0.]\n",
            "  [0. 0. 0. ... 0. 0. 0.]\n",
            "  ...\n",
            "  [0. 0. 0. ... 0. 0. 0.]\n",
            "  [0. 0. 0. ... 0. 0. 0.]\n",
            "  [0. 0. 0. ... 0. 0. 0.]]]\n"
          ],
          "name": "stdout"
        }
      ]
    },
    {
      "cell_type": "code",
      "metadata": {
        "id": "GBQhC8yY2QeL",
        "colab_type": "code",
        "colab": {}
      },
      "source": [
        "#save the train_image as npy file\n",
        "# from numpy import save #added to save the date in npy\n",
        "# save(rootDir +'train_pid_data.npy', pid)"
      ],
      "execution_count": 27,
      "outputs": []
    },
    {
      "cell_type": "code",
      "metadata": {
        "id": "MXZefNNP9I7J",
        "colab_type": "code",
        "colab": {}
      },
      "source": [
        "#load the train_image saved earlier\n",
        "pid = np.load(rootDir +'train_pid_data.npy')"
      ],
      "execution_count": 28,
      "outputs": []
    },
    {
      "cell_type": "code",
      "metadata": {
        "id": "6eXFtXqc-shw",
        "colab_type": "code",
        "colab": {
          "base_uri": "https://localhost:8080/",
          "height": 119
        },
        "outputId": "66dfd851-ab18-412e-b4d3-7c99e9ce98b5"
      },
      "source": [
        "print(pid)"
      ],
      "execution_count": 29,
      "outputs": [
        {
          "output_type": "stream",
          "text": [
            "['000db696-cf54-4385-b10b-6b16fbb3f985'\n",
            " '000fe35a-2649-43d4-b027-e67796d412e0'\n",
            " '001031d9-f904-4a23-b3e5-2c088acd19c6' ...\n",
            " 'ffd787b6-59ca-48cb-bd15-bcedd52cf37c'\n",
            " 'fff0b503-72a5-446a-843d-f3d152e39053'\n",
            " 'fffb2395-8edd-4954-8a89-ffe2fd329be3']\n"
          ],
          "name": "stdout"
        }
      ]
    },
    {
      "cell_type": "code",
      "metadata": {
        "id": "5_wWoWtW-8SM",
        "colab_type": "code",
        "colab": {
          "base_uri": "https://localhost:8080/",
          "height": 35
        },
        "outputId": "6295bb3c-c9d6-4258-bd84-8c94b599d26b"
      },
      "source": [
        "pid[1]"
      ],
      "execution_count": 30,
      "outputs": [
        {
          "output_type": "execute_result",
          "data": {
            "application/vnd.google.colaboratory.intrinsic": {
              "type": "string"
            },
            "text/plain": [
              "'000fe35a-2649-43d4-b027-e67796d412e0'"
            ]
          },
          "metadata": {
            "tags": []
          },
          "execution_count": 30
        }
      ]
    },
    {
      "cell_type": "code",
      "metadata": {
        "id": "PXoCP-pv_Tsr",
        "colab_type": "code",
        "colab": {
          "base_uri": "https://localhost:8080/",
          "height": 136
        },
        "outputId": "de685a31-9679-41d9-b0f2-c41d46493524"
      },
      "source": [
        "train_mask[1]"
      ],
      "execution_count": 31,
      "outputs": [
        {
          "output_type": "execute_result",
          "data": {
            "text/plain": [
              "array([[0., 0., 0., ..., 0., 0., 0.],\n",
              "       [0., 0., 0., ..., 0., 0., 0.],\n",
              "       [0., 0., 0., ..., 0., 0., 0.],\n",
              "       ...,\n",
              "       [0., 0., 0., ..., 0., 0., 0.],\n",
              "       [0., 0., 0., ..., 0., 0., 0.],\n",
              "       [0., 0., 0., ..., 0., 0., 0.]])"
            ]
          },
          "metadata": {
            "tags": []
          },
          "execution_count": 31
        }
      ]
    },
    {
      "cell_type": "code",
      "metadata": {
        "id": "H--3l7UEYm2T",
        "colab_type": "code",
        "colab": {
          "base_uri": "https://localhost:8080/",
          "height": 119
        },
        "outputId": "5214018d-df0a-4a46-f83b-1662e393c8ba"
      },
      "source": [
        "print(pid)"
      ],
      "execution_count": 32,
      "outputs": [
        {
          "output_type": "stream",
          "text": [
            "['000db696-cf54-4385-b10b-6b16fbb3f985'\n",
            " '000fe35a-2649-43d4-b027-e67796d412e0'\n",
            " '001031d9-f904-4a23-b3e5-2c088acd19c6' ...\n",
            " 'ffd787b6-59ca-48cb-bd15-bcedd52cf37c'\n",
            " 'fff0b503-72a5-446a-843d-f3d152e39053'\n",
            " 'fffb2395-8edd-4954-8a89-ffe2fd329be3']\n"
          ],
          "name": "stdout"
        }
      ]
    },
    {
      "cell_type": "code",
      "metadata": {
        "id": "0-iXZfeKXMx4",
        "colab_type": "code",
        "colab": {
          "base_uri": "https://localhost:8080/",
          "height": 35
        },
        "outputId": "df4166a7-1629-44a6-9b68-4b4c8a11f5d3"
      },
      "source": [
        "pid[1]"
      ],
      "execution_count": 33,
      "outputs": [
        {
          "output_type": "execute_result",
          "data": {
            "application/vnd.google.colaboratory.intrinsic": {
              "type": "string"
            },
            "text/plain": [
              "'000fe35a-2649-43d4-b027-e67796d412e0'"
            ]
          },
          "metadata": {
            "tags": []
          },
          "execution_count": 33
        }
      ]
    },
    {
      "cell_type": "code",
      "metadata": {
        "id": "dAdXRfrKXRi7",
        "colab_type": "code",
        "colab": {
          "base_uri": "https://localhost:8080/",
          "height": 136
        },
        "outputId": "2adb6c78-c11a-4ca8-fef5-e4bda0b658ec"
      },
      "source": [
        "train_mask[1]"
      ],
      "execution_count": 34,
      "outputs": [
        {
          "output_type": "execute_result",
          "data": {
            "text/plain": [
              "array([[0., 0., 0., ..., 0., 0., 0.],\n",
              "       [0., 0., 0., ..., 0., 0., 0.],\n",
              "       [0., 0., 0., ..., 0., 0., 0.],\n",
              "       ...,\n",
              "       [0., 0., 0., ..., 0., 0., 0.],\n",
              "       [0., 0., 0., ..., 0., 0., 0.],\n",
              "       [0., 0., 0., ..., 0., 0., 0.]])"
            ]
          },
          "metadata": {
            "tags": []
          },
          "execution_count": 34
        }
      ]
    },
    {
      "cell_type": "code",
      "metadata": {
        "id": "g57c8jG_WkIh",
        "colab_type": "code",
        "colab": {
          "base_uri": "https://localhost:8080/",
          "height": 589
        },
        "outputId": "aefddb1c-ba5e-472b-875b-bf767582d5a7"
      },
      "source": [
        "n=2\n",
        "print(train_image.shape)\n",
        "print(train_mask.shape)\n",
        "print(pid[n])\n",
        "plt.imshow(train_image[n])\n",
        "plt.show()\n",
        "plt.imshow(train_mask[n])"
      ],
      "execution_count": 35,
      "outputs": [
        {
          "output_type": "stream",
          "text": [
            "(6012, 224, 224, 3)\n",
            "(6012, 224, 224)\n",
            "001031d9-f904-4a23-b3e5-2c088acd19c6\n"
          ],
          "name": "stdout"
        },
        {
          "output_type": "display_data",
          "data": {
            "image/png": "[encoded data removed]",
            "text/plain": [
              "<Figure size 432x288 with 1 Axes>"
            ]
          },
          "metadata": {
            "tags": [],
            "needs_background": "light"
          }
        },
        {
          "output_type": "execute_result",
          "data": {
            "text/plain": [
              "<matplotlib.image.AxesImage at 0x7fed40a81c88>"
            ]
          },
          "metadata": {
            "tags": []
          },
          "execution_count": 35
        },
        {
          "output_type": "display_data",
          "data": {
            "image/png": "[encoded data removed]",
            "text/plain": [
              "<Figure size 432x288 with 1 Axes>"
            ]
          },
          "metadata": {
            "tags": [],
            "needs_background": "light"
          }
        }
      ]
    },
    {
      "cell_type": "code",
      "metadata": {
        "id": "QpVkjBR-54hU",
        "colab_type": "code",
        "colab": {}
      },
      "source": [
        "from tensorflow.keras.callbacks import EarlyStopping\n",
        "from tensorflow.keras.callbacks import ModelCheckpoint\n",
        "import os\n",
        "import h5py"
      ],
      "execution_count": 36,
      "outputs": []
    },
    {
      "cell_type": "code",
      "metadata": {
        "id": "e5hXGJjSa7dA",
        "colab_type": "code",
        "colab": {}
      },
      "source": [
        "from tensorflow.keras.applications.mobilenet import MobileNet\n",
        "from tensorflow.keras.layers import Concatenate, UpSampling2D, Conv2D, Reshape\n",
        "from tensorflow.keras.models import Model\n",
        "\n",
        "\n",
        "def create_model(trainable=True):\n",
        "    model = MobileNet(input_shape=(224, 224, 3),\n",
        "              alpha=1.0,\n",
        "              depth_multiplier=1,\n",
        "              dropout=1e-3,\n",
        "              include_top=True,\n",
        "              weights='imagenet',\n",
        "              input_tensor=None,\n",
        "              pooling=None,\n",
        "              classes=1000)\n",
        "    for layer in model.layers:\n",
        "        layer.trainable = trainable\n",
        "\n",
        "\n",
        "        # Add all the UNET layers here\n",
        "        #### Add your code here ####\n",
        "    block0 = model.get_layer(\"conv_pw_1_relu\").output \n",
        "    block = model.get_layer(\"conv_pw_1_relu\").output\n",
        "    block1 = model.get_layer(\"conv_pw_3_relu\").output\n",
        "    block2 = model.get_layer(\"conv_pw_5_relu\").output\n",
        "    block3 = model.get_layer(\"conv_pw_11_relu\").output\n",
        "    block4 = model.get_layer(\"conv_pw_13_relu\").output\n",
        "\n",
        "    x = Concatenate()([UpSampling2D()(block4), block3])\n",
        "    x = Concatenate()([UpSampling2D()(x), block2])\n",
        "    x = Concatenate()([UpSampling2D()(x), block1])\n",
        "    x = Concatenate()([UpSampling2D()(x), block])\n",
        "    #x = Concatenate()([UpSampling2D()(x), block0])\n",
        "    x = UpSampling2D()(x)\n",
        "    x = Conv2D(1, kernel_size=1, activation=\"sigmoid\")(x)\n",
        "\n",
        "    x = Reshape((224, 224))(x)\n",
        "\n",
        "    # model = Model(input = inputs, output = x)\n",
        "    # model.compile(optimizer = Adam(lr = 1e-4), loss = 'binary_crossentropy', metrics = ['accuracy'])\n",
        "\n",
        "    # if(pretrained_weights):\n",
        "    #   model.load_weights(pretrained_weights)\n",
        "\n",
        "    return Model(inputs=model.input, outputs=x)\n",
        "\n"
      ],
      "execution_count": 37,
      "outputs": []
    },
    {
      "cell_type": "code",
      "metadata": {
        "id": "yu_NZRTjbB2c",
        "colab_type": "code",
        "colab": {
          "base_uri": "https://localhost:8080/",
          "height": 1000
        },
        "outputId": "b68b91d1-5e55-4204-8b9c-117450a8fa37"
      },
      "source": [
        "model = create_model(False)\n",
        "\n",
        "model.summary()"
      ],
      "execution_count": 38,
      "outputs": [
        {
          "output_type": "stream",
          "text": [
            "Downloading data from https://storage.googleapis.com/tensorflow/keras-applications/mobilenet/mobilenet_1_0_224_tf.h5\n",
            "17227776/17225924 [==============================] - 0s 0us/step\n",
            "Model: \"model\"\n",
            "__________________________________________________________________________________________________\n",
            "Layer (type)                    Output Shape         Param #     Connected to                     \n",
            "==================================================================================================\n",
            "input_1 (InputLayer)            [(None, 224, 224, 3) 0                                            \n",
            "__________________________________________________________________________________________________\n",
            "conv1_pad (ZeroPadding2D)       (None, 225, 225, 3)  0           input_1[0][0]                    \n",
            "__________________________________________________________________________________________________\n",
            "conv1 (Conv2D)                  (None, 112, 112, 32) 864         conv1_pad[0][0]                  \n",
            "__________________________________________________________________________________________________\n",
            "conv1_bn (BatchNormalization)   (None, 112, 112, 32) 128         conv1[0][0]                      \n",
            "__________________________________________________________________________________________________\n",
            "conv1_relu (ReLU)               (None, 112, 112, 32) 0           conv1_bn[0][0]                   \n",
            "__________________________________________________________________________________________________\n",
            "conv_dw_1 (DepthwiseConv2D)     (None, 112, 112, 32) 288         conv1_relu[0][0]                 \n",
            "__________________________________________________________________________________________________\n",
            "conv_dw_1_bn (BatchNormalizatio (None, 112, 112, 32) 128         conv_dw_1[0][0]                  \n",
            "__________________________________________________________________________________________________\n",
            "conv_dw_1_relu (ReLU)           (None, 112, 112, 32) 0           conv_dw_1_bn[0][0]               \n",
            "__________________________________________________________________________________________________\n",
            "conv_pw_1 (Conv2D)              (None, 112, 112, 64) 2048        conv_dw_1_relu[0][0]             \n",
            "__________________________________________________________________________________________________\n",
            "conv_pw_1_bn (BatchNormalizatio (None, 112, 112, 64) 256         conv_pw_1[0][0]                  \n",
            "__________________________________________________________________________________________________\n",
            "conv_pw_1_relu (ReLU)           (None, 112, 112, 64) 0           conv_pw_1_bn[0][0]               \n",
            "__________________________________________________________________________________________________\n",
            "conv_pad_2 (ZeroPadding2D)      (None, 113, 113, 64) 0           conv_pw_1_relu[0][0]             \n",
            "__________________________________________________________________________________________________\n",
            "conv_dw_2 (DepthwiseConv2D)     (None, 56, 56, 64)   576         conv_pad_2[0][0]                 \n",
            "__________________________________________________________________________________________________\n",
            "conv_dw_2_bn (BatchNormalizatio (None, 56, 56, 64)   256         conv_dw_2[0][0]                  \n",
            "__________________________________________________________________________________________________\n",
            "conv_dw_2_relu (ReLU)           (None, 56, 56, 64)   0           conv_dw_2_bn[0][0]               \n",
            "__________________________________________________________________________________________________\n",
            "conv_pw_2 (Conv2D)              (None, 56, 56, 128)  8192        conv_dw_2_relu[0][0]             \n",
            "__________________________________________________________________________________________________\n",
            "conv_pw_2_bn (BatchNormalizatio (None, 56, 56, 128)  512         conv_pw_2[0][0]                  \n",
            "__________________________________________________________________________________________________\n",
            "conv_pw_2_relu (ReLU)           (None, 56, 56, 128)  0           conv_pw_2_bn[0][0]               \n",
            "__________________________________________________________________________________________________\n",
            "conv_dw_3 (DepthwiseConv2D)     (None, 56, 56, 128)  1152        conv_pw_2_relu[0][0]             \n",
            "__________________________________________________________________________________________________\n",
            "conv_dw_3_bn (BatchNormalizatio (None, 56, 56, 128)  512         conv_dw_3[0][0]                  \n",
            "__________________________________________________________________________________________________\n",
            "conv_dw_3_relu (ReLU)           (None, 56, 56, 128)  0           conv_dw_3_bn[0][0]               \n",
            "__________________________________________________________________________________________________\n",
            "conv_pw_3 (Conv2D)              (None, 56, 56, 128)  16384       conv_dw_3_relu[0][0]             \n",
            "__________________________________________________________________________________________________\n",
            "conv_pw_3_bn (BatchNormalizatio (None, 56, 56, 128)  512         conv_pw_3[0][0]                  \n",
            "__________________________________________________________________________________________________\n",
            "conv_pw_3_relu (ReLU)           (None, 56, 56, 128)  0           conv_pw_3_bn[0][0]               \n",
            "__________________________________________________________________________________________________\n",
            "conv_pad_4 (ZeroPadding2D)      (None, 57, 57, 128)  0           conv_pw_3_relu[0][0]             \n",
            "__________________________________________________________________________________________________\n",
            "conv_dw_4 (DepthwiseConv2D)     (None, 28, 28, 128)  1152        conv_pad_4[0][0]                 \n",
            "__________________________________________________________________________________________________\n",
            "conv_dw_4_bn (BatchNormalizatio (None, 28, 28, 128)  512         conv_dw_4[0][0]                  \n",
            "__________________________________________________________________________________________________\n",
            "conv_dw_4_relu (ReLU)           (None, 28, 28, 128)  0           conv_dw_4_bn[0][0]               \n",
            "__________________________________________________________________________________________________\n",
            "conv_pw_4 (Conv2D)              (None, 28, 28, 256)  32768       conv_dw_4_relu[0][0]             \n",
            "__________________________________________________________________________________________________\n",
            "conv_pw_4_bn (BatchNormalizatio (None, 28, 28, 256)  1024        conv_pw_4[0][0]                  \n",
            "__________________________________________________________________________________________________\n",
            "conv_pw_4_relu (ReLU)           (None, 28, 28, 256)  0           conv_pw_4_bn[0][0]               \n",
            "__________________________________________________________________________________________________\n",
            "conv_dw_5 (DepthwiseConv2D)     (None, 28, 28, 256)  2304        conv_pw_4_relu[0][0]             \n",
            "__________________________________________________________________________________________________\n",
            "conv_dw_5_bn (BatchNormalizatio (None, 28, 28, 256)  1024        conv_dw_5[0][0]                  \n",
            "__________________________________________________________________________________________________\n",
            "conv_dw_5_relu (ReLU)           (None, 28, 28, 256)  0           conv_dw_5_bn[0][0]               \n",
            "__________________________________________________________________________________________________\n",
            "conv_pw_5 (Conv2D)              (None, 28, 28, 256)  65536       conv_dw_5_relu[0][0]             \n",
            "__________________________________________________________________________________________________\n",
            "conv_pw_5_bn (BatchNormalizatio (None, 28, 28, 256)  1024        conv_pw_5[0][0]                  \n",
            "__________________________________________________________________________________________________\n",
            "conv_pw_5_relu (ReLU)           (None, 28, 28, 256)  0           conv_pw_5_bn[0][0]               \n",
            "__________________________________________________________________________________________________\n",
            "conv_pad_6 (ZeroPadding2D)      (None, 29, 29, 256)  0           conv_pw_5_relu[0][0]             \n",
            "__________________________________________________________________________________________________\n",
            "conv_dw_6 (DepthwiseConv2D)     (None, 14, 14, 256)  2304        conv_pad_6[0][0]                 \n",
            "__________________________________________________________________________________________________\n",
            "conv_dw_6_bn (BatchNormalizatio (None, 14, 14, 256)  1024        conv_dw_6[0][0]                  \n",
            "__________________________________________________________________________________________________\n",
            "conv_dw_6_relu (ReLU)           (None, 14, 14, 256)  0           conv_dw_6_bn[0][0]               \n",
            "__________________________________________________________________________________________________\n",
            "conv_pw_6 (Conv2D)              (None, 14, 14, 512)  131072      conv_dw_6_relu[0][0]             \n",
            "__________________________________________________________________________________________________\n",
            "conv_pw_6_bn (BatchNormalizatio (None, 14, 14, 512)  2048        conv_pw_6[0][0]                  \n",
            "__________________________________________________________________________________________________\n",
            "conv_pw_6_relu (ReLU)           (None, 14, 14, 512)  0           conv_pw_6_bn[0][0]               \n",
            "__________________________________________________________________________________________________\n",
            "conv_dw_7 (DepthwiseConv2D)     (None, 14, 14, 512)  4608        conv_pw_6_relu[0][0]             \n",
            "__________________________________________________________________________________________________\n",
            "conv_dw_7_bn (BatchNormalizatio (None, 14, 14, 512)  2048        conv_dw_7[0][0]                  \n",
            "__________________________________________________________________________________________________\n",
            "conv_dw_7_relu (ReLU)           (None, 14, 14, 512)  0           conv_dw_7_bn[0][0]               \n",
            "__________________________________________________________________________________________________\n",
            "conv_pw_7 (Conv2D)              (None, 14, 14, 512)  262144      conv_dw_7_relu[0][0]             \n",
            "__________________________________________________________________________________________________\n",
            "conv_pw_7_bn (BatchNormalizatio (None, 14, 14, 512)  2048        conv_pw_7[0][0]                  \n",
            "__________________________________________________________________________________________________\n",
            "conv_pw_7_relu (ReLU)           (None, 14, 14, 512)  0           conv_pw_7_bn[0][0]               \n",
            "__________________________________________________________________________________________________\n",
            "conv_dw_8 (DepthwiseConv2D)     (None, 14, 14, 512)  4608        conv_pw_7_relu[0][0]             \n",
            "__________________________________________________________________________________________________\n",
            "conv_dw_8_bn (BatchNormalizatio (None, 14, 14, 512)  2048        conv_dw_8[0][0]                  \n",
            "__________________________________________________________________________________________________\n",
            "conv_dw_8_relu (ReLU)           (None, 14, 14, 512)  0           conv_dw_8_bn[0][0]               \n",
            "__________________________________________________________________________________________________\n",
            "conv_pw_8 (Conv2D)              (None, 14, 14, 512)  262144      conv_dw_8_relu[0][0]             \n",
            "__________________________________________________________________________________________________\n",
            "conv_pw_8_bn (BatchNormalizatio (None, 14, 14, 512)  2048        conv_pw_8[0][0]                  \n",
            "__________________________________________________________________________________________________\n",
            "conv_pw_8_relu (ReLU)           (None, 14, 14, 512)  0           conv_pw_8_bn[0][0]               \n",
            "__________________________________________________________________________________________________\n",
            "conv_dw_9 (DepthwiseConv2D)     (None, 14, 14, 512)  4608        conv_pw_8_relu[0][0]             \n",
            "__________________________________________________________________________________________________\n",
            "conv_dw_9_bn (BatchNormalizatio (None, 14, 14, 512)  2048        conv_dw_9[0][0]                  \n",
            "__________________________________________________________________________________________________\n",
            "conv_dw_9_relu (ReLU)           (None, 14, 14, 512)  0           conv_dw_9_bn[0][0]               \n",
            "__________________________________________________________________________________________________\n",
            "conv_pw_9 (Conv2D)              (None, 14, 14, 512)  262144      conv_dw_9_relu[0][0]             \n",
            "__________________________________________________________________________________________________\n",
            "conv_pw_9_bn (BatchNormalizatio (None, 14, 14, 512)  2048        conv_pw_9[0][0]                  \n",
            "__________________________________________________________________________________________________\n",
            "conv_pw_9_relu (ReLU)           (None, 14, 14, 512)  0           conv_pw_9_bn[0][0]               \n",
            "__________________________________________________________________________________________________\n",
            "conv_dw_10 (DepthwiseConv2D)    (None, 14, 14, 512)  4608        conv_pw_9_relu[0][0]             \n",
            "__________________________________________________________________________________________________\n",
            "conv_dw_10_bn (BatchNormalizati (None, 14, 14, 512)  2048        conv_dw_10[0][0]                 \n",
            "__________________________________________________________________________________________________\n",
            "conv_dw_10_relu (ReLU)          (None, 14, 14, 512)  0           conv_dw_10_bn[0][0]              \n",
            "__________________________________________________________________________________________________\n",
            "conv_pw_10 (Conv2D)             (None, 14, 14, 512)  262144      conv_dw_10_relu[0][0]            \n",
            "__________________________________________________________________________________________________\n",
            "conv_pw_10_bn (BatchNormalizati (None, 14, 14, 512)  2048        conv_pw_10[0][0]                 \n",
            "__________________________________________________________________________________________________\n",
            "conv_pw_10_relu (ReLU)          (None, 14, 14, 512)  0           conv_pw_10_bn[0][0]              \n",
            "__________________________________________________________________________________________________\n",
            "conv_dw_11 (DepthwiseConv2D)    (None, 14, 14, 512)  4608        conv_pw_10_relu[0][0]            \n",
            "__________________________________________________________________________________________________\n",
            "conv_dw_11_bn (BatchNormalizati (None, 14, 14, 512)  2048        conv_dw_11[0][0]                 \n",
            "__________________________________________________________________________________________________\n",
            "conv_dw_11_relu (ReLU)          (None, 14, 14, 512)  0           conv_dw_11_bn[0][0]              \n",
            "__________________________________________________________________________________________________\n",
            "conv_pw_11 (Conv2D)             (None, 14, 14, 512)  262144      conv_dw_11_relu[0][0]            \n",
            "__________________________________________________________________________________________________\n",
            "conv_pw_11_bn (BatchNormalizati (None, 14, 14, 512)  2048        conv_pw_11[0][0]                 \n",
            "__________________________________________________________________________________________________\n",
            "conv_pw_11_relu (ReLU)          (None, 14, 14, 512)  0           conv_pw_11_bn[0][0]              \n",
            "__________________________________________________________________________________________________\n",
            "conv_pad_12 (ZeroPadding2D)     (None, 15, 15, 512)  0           conv_pw_11_relu[0][0]            \n",
            "__________________________________________________________________________________________________\n",
            "conv_dw_12 (DepthwiseConv2D)    (None, 7, 7, 512)    4608        conv_pad_12[0][0]                \n",
            "__________________________________________________________________________________________________\n",
            "conv_dw_12_bn (BatchNormalizati (None, 7, 7, 512)    2048        conv_dw_12[0][0]                 \n",
            "__________________________________________________________________________________________________\n",
            "conv_dw_12_relu (ReLU)          (None, 7, 7, 512)    0           conv_dw_12_bn[0][0]              \n",
            "__________________________________________________________________________________________________\n",
            "conv_pw_12 (Conv2D)             (None, 7, 7, 1024)   524288      conv_dw_12_relu[0][0]            \n",
            "__________________________________________________________________________________________________\n",
            "conv_pw_12_bn (BatchNormalizati (None, 7, 7, 1024)   4096        conv_pw_12[0][0]                 \n",
            "__________________________________________________________________________________________________\n",
            "conv_pw_12_relu (ReLU)          (None, 7, 7, 1024)   0           conv_pw_12_bn[0][0]              \n",
            "__________________________________________________________________________________________________\n",
            "conv_dw_13 (DepthwiseConv2D)    (None, 7, 7, 1024)   9216        conv_pw_12_relu[0][0]            \n",
            "__________________________________________________________________________________________________\n",
            "conv_dw_13_bn (BatchNormalizati (None, 7, 7, 1024)   4096        conv_dw_13[0][0]                 \n",
            "__________________________________________________________________________________________________\n",
            "conv_dw_13_relu (ReLU)          (None, 7, 7, 1024)   0           conv_dw_13_bn[0][0]              \n",
            "__________________________________________________________________________________________________\n",
            "conv_pw_13 (Conv2D)             (None, 7, 7, 1024)   1048576     conv_dw_13_relu[0][0]            \n",
            "__________________________________________________________________________________________________\n",
            "conv_pw_13_bn (BatchNormalizati (None, 7, 7, 1024)   4096        conv_pw_13[0][0]                 \n",
            "__________________________________________________________________________________________________\n",
            "conv_pw_13_relu (ReLU)          (None, 7, 7, 1024)   0           conv_pw_13_bn[0][0]              \n",
            "__________________________________________________________________________________________________\n",
            "up_sampling2d (UpSampling2D)    (None, 14, 14, 1024) 0           conv_pw_13_relu[0][0]            \n",
            "__________________________________________________________________________________________________\n",
            "concatenate (Concatenate)       (None, 14, 14, 1536) 0           up_sampling2d[0][0]              \n",
            "                                                                 conv_pw_11_relu[0][0]            \n",
            "__________________________________________________________________________________________________\n",
            "up_sampling2d_1 (UpSampling2D)  (None, 28, 28, 1536) 0           concatenate[0][0]                \n",
            "__________________________________________________________________________________________________\n",
            "concatenate_1 (Concatenate)     (None, 28, 28, 1792) 0           up_sampling2d_1[0][0]            \n",
            "                                                                 conv_pw_5_relu[0][0]             \n",
            "__________________________________________________________________________________________________\n",
            "up_sampling2d_2 (UpSampling2D)  (None, 56, 56, 1792) 0           concatenate_1[0][0]              \n",
            "__________________________________________________________________________________________________\n",
            "concatenate_2 (Concatenate)     (None, 56, 56, 1920) 0           up_sampling2d_2[0][0]            \n",
            "                                                                 conv_pw_3_relu[0][0]             \n",
            "__________________________________________________________________________________________________\n",
            "up_sampling2d_3 (UpSampling2D)  (None, 112, 112, 192 0           concatenate_2[0][0]              \n",
            "__________________________________________________________________________________________________\n",
            "concatenate_3 (Concatenate)     (None, 112, 112, 198 0           up_sampling2d_3[0][0]            \n",
            "                                                                 conv_pw_1_relu[0][0]             \n",
            "__________________________________________________________________________________________________\n",
            "up_sampling2d_4 (UpSampling2D)  (None, 224, 224, 198 0           concatenate_3[0][0]              \n",
            "__________________________________________________________________________________________________\n",
            "conv2d (Conv2D)                 (None, 224, 224, 1)  1985        up_sampling2d_4[0][0]            \n",
            "__________________________________________________________________________________________________\n",
            "reshape (Reshape)               (None, 224, 224)     0           conv2d[0][0]                     \n",
            "==================================================================================================\n",
            "Total params: 3,230,849\n",
            "Trainable params: 1,985\n",
            "Non-trainable params: 3,228,864\n",
            "__________________________________________________________________________________________________\n"
          ],
          "name": "stdout"
        }
      ]
    },
    {
      "cell_type": "code",
      "metadata": {
        "id": "G-BmlUNibTuI",
        "colab_type": "code",
        "colab": {}
      },
      "source": [
        "def dice_coefficient(y_true, y_pred):\n",
        "  \n",
        "  numerator = 2 * tf.reduce_sum(y_true * y_pred)\n",
        "  denominator = tf.reduce_sum(y_true + y_pred)\n",
        "  return numerator / (denominator + tf.keras.backend.epsilon())"
      ],
      "execution_count": 39,
      "outputs": []
    },
    {
      "cell_type": "code",
      "metadata": {
        "id": "n8kbaoZIbX8h",
        "colab_type": "code",
        "colab": {}
      },
      "source": [
        "from tensorflow.keras.losses import binary_crossentropy\n",
        "from tensorflow.keras.backend import log, epsilon\n",
        "def loss(y_true, y_pred):\n",
        "    return binary_crossentropy(y_true, y_pred) - log(dice_coefficient(y_true, y_pred) + epsilon())"
      ],
      "execution_count": 40,
      "outputs": []
    },
    {
      "cell_type": "code",
      "metadata": {
        "id": "MRq_WCWtbcyu",
        "colab_type": "code",
        "colab": {}
      },
      "source": [
        "model.compile(optimizer='Adam', loss=loss, metrics=[dice_coefficient])"
      ],
      "execution_count": 41,
      "outputs": []
    },
    {
      "cell_type": "code",
      "metadata": {
        "id": "1bGo912L5XsS",
        "colab_type": "code",
        "colab": {}
      },
      "source": [
        "mc1 = ModelCheckpoint(rootDir +'Capstone_best_model_6000_VL_min.h5', monitor='val_loss', mode='min', verbose=1, save_best_only=True)\n",
        "#mc1 = ModelCheckpoint(rootDir +'Capstone_best_model.h5', monitor='loss', mode='min', verbose=1, save_best_only=True)\n",
        "stop = EarlyStopping(monitor=\"loss\", patience=5, mode=\"min\")"
      ],
      "execution_count": 42,
      "outputs": []
    },
    {
      "cell_type": "code",
      "metadata": {
        "id": "Bel024nZM12e",
        "colab_type": "code",
        "colab": {
          "base_uri": "https://localhost:8080/",
          "height": 34
        },
        "outputId": "3d23d9c0-7aec-4a3c-b204-e4fbb8602985"
      },
      "source": [
        "print(train_image.shape)"
      ],
      "execution_count": 43,
      "outputs": [
        {
          "output_type": "stream",
          "text": [
            "(6012, 224, 224, 3)\n"
          ],
          "name": "stdout"
        }
      ]
    },
    {
      "cell_type": "code",
      "metadata": {
        "id": "mT0DR0qAM_AT",
        "colab_type": "code",
        "colab": {
          "base_uri": "https://localhost:8080/",
          "height": 34
        },
        "outputId": "cf3c441c-6c7d-49eb-f633-9200f0614305"
      },
      "source": [
        "print(train_mask.shape)"
      ],
      "execution_count": 44,
      "outputs": [
        {
          "output_type": "stream",
          "text": [
            "(6012, 224, 224)\n"
          ],
          "name": "stdout"
        }
      ]
    },
    {
      "cell_type": "code",
      "metadata": {
        "id": "8lEhR54ubhXZ",
        "colab_type": "code",
        "colab": {
          "base_uri": "https://localhost:8080/",
          "height": 425
        },
        "outputId": "6634935c-ae58-42bb-9bea-6f07d40e8768"
      },
      "source": [
        "import tensorflow as tf\n",
        "history= model.fit(\n",
        "    x=train_image,\n",
        "    y=train_mask,\n",
        "    callbacks=[mc1, stop],\n",
        "    batch_size=4,    \n",
        "    epochs=6,\n",
        "    use_multiprocessing=True,\n",
        "    validation_split=0.3,\n",
        "    verbose=1\n",
        "    #validation_data=(X_valid, y_valid),\n",
        "    #validation_data=X_valid,\n",
        "    #callbacks=[mc1]\n",
        "    )"
      ],
      "execution_count": 45,
      "outputs": [
        {
          "output_type": "stream",
          "text": [
            "Epoch 1/6\n",
            "1052/1052 [==============================] - ETA: 0s - loss: 1.1610 - dice_coefficient: 0.4442\n",
            "Epoch 00001: val_loss improved from inf to 1.07759, saving model to /content/drive/My Drive/Project_Pneumonia_Detection/Capstone_best_model_6000_VL_min.h5\n",
            "1052/1052 [==============================] - 2751s 3s/step - loss: 1.1610 - dice_coefficient: 0.4442 - val_loss: 1.0776 - val_dice_coefficient: 0.4753\n",
            "Epoch 2/6\n",
            "1052/1052 [==============================] - ETA: 0s - loss: 1.0555 - dice_coefficient: 0.4827\n",
            "Epoch 00002: val_loss did not improve from 1.07759\n",
            "1052/1052 [==============================] - 2747s 3s/step - loss: 1.0555 - dice_coefficient: 0.4827 - val_loss: 1.0870 - val_dice_coefficient: 0.4551\n",
            "Epoch 3/6\n",
            "1052/1052 [==============================] - ETA: 0s - loss: 1.0348 - dice_coefficient: 0.4909\n",
            "Epoch 00003: val_loss improved from 1.07759 to 1.03496, saving model to /content/drive/My Drive/Project_Pneumonia_Detection/Capstone_best_model_6000_VL_min.h5\n",
            "1052/1052 [==============================] - 2735s 3s/step - loss: 1.0348 - dice_coefficient: 0.4909 - val_loss: 1.0350 - val_dice_coefficient: 0.4774\n",
            "Epoch 4/6\n",
            "1052/1052 [==============================] - ETA: 0s - loss: 1.0245 - dice_coefficient: 0.4952\n",
            "Epoch 00004: val_loss improved from 1.03496 to 1.01549, saving model to /content/drive/My Drive/Project_Pneumonia_Detection/Capstone_best_model_6000_VL_min.h5\n",
            "1052/1052 [==============================] - 2732s 3s/step - loss: 1.0245 - dice_coefficient: 0.4952 - val_loss: 1.0155 - val_dice_coefficient: 0.4958\n",
            "Epoch 5/6\n",
            "1052/1052 [==============================] - ETA: 0s - loss: 1.0175 - dice_coefficient: 0.4982\n",
            "Epoch 00005: val_loss did not improve from 1.01549\n",
            "1052/1052 [==============================] - 2734s 3s/step - loss: 1.0175 - dice_coefficient: 0.4982 - val_loss: 1.0189 - val_dice_coefficient: 0.4956\n",
            "Epoch 6/6\n",
            "1052/1052 [==============================] - ETA: 0s - loss: 1.0226 - dice_coefficient: 0.4988\n",
            "Epoch 00006: val_loss did not improve from 1.01549\n",
            "1052/1052 [==============================] - 2731s 3s/step - loss: 1.0226 - dice_coefficient: 0.4988 - val_loss: 1.0427 - val_dice_coefficient: 0.5024\n"
          ],
          "name": "stdout"
        }
      ]
    },
    {
      "cell_type": "code",
      "metadata": {
        "id": "UsLVmaYx5XCz",
        "colab_type": "code",
        "colab": {
          "base_uri": "https://localhost:8080/",
          "height": 333
        },
        "outputId": "836bfcfb-3893-4a73-9c42-2edee388c625"
      },
      "source": [
        "from numpy import savetxt\n",
        "savetxt(rootDir+'history_6000.csv',history, delimiter=',')"
      ],
      "execution_count": 47,
      "outputs": [
        {
          "output_type": "error",
          "ename": "ValueError",
          "evalue": "ignored",
          "traceback": [
            "\u001b[0;31m---------------------------------------------------------------------------\u001b[0m",
            "\u001b[0;31mValueError\u001b[0m                                Traceback (most recent call last)",
            "\u001b[0;32m<ipython-input-47-f4f9c420e2f7>\u001b[0m in \u001b[0;36m<module>\u001b[0;34m()\u001b[0m\n\u001b[1;32m      1\u001b[0m \u001b[0;32mfrom\u001b[0m \u001b[0mnumpy\u001b[0m \u001b[0;32mimport\u001b[0m \u001b[0msavetxt\u001b[0m\u001b[0;34m\u001b[0m\u001b[0;34m\u001b[0m\u001b[0m\n\u001b[0;32m----> 2\u001b[0;31m \u001b[0msavetxt\u001b[0m\u001b[0;34m(\u001b[0m\u001b[0mrootDir\u001b[0m\u001b[0;34m+\u001b[0m\u001b[0;34m'history_6000.csv'\u001b[0m\u001b[0;34m,\u001b[0m\u001b[0mhistory\u001b[0m\u001b[0;34m,\u001b[0m \u001b[0mdelimiter\u001b[0m\u001b[0;34m=\u001b[0m\u001b[0;34m','\u001b[0m\u001b[0;34m)\u001b[0m\u001b[0;34m\u001b[0m\u001b[0;34m\u001b[0m\u001b[0m\n\u001b[0m",
            "\u001b[0;32m<__array_function__ internals>\u001b[0m in \u001b[0;36msavetxt\u001b[0;34m(*args, **kwargs)\u001b[0m\n",
            "\u001b[0;32m/usr/local/lib/python3.6/dist-packages/numpy/lib/npyio.py\u001b[0m in \u001b[0;36msavetxt\u001b[0;34m(fname, X, fmt, delimiter, newline, header, footer, comments, encoding)\u001b[0m\n\u001b[1;32m   1393\u001b[0m         \u001b[0;32mif\u001b[0m \u001b[0mX\u001b[0m\u001b[0;34m.\u001b[0m\u001b[0mndim\u001b[0m \u001b[0;34m==\u001b[0m \u001b[0;36m0\u001b[0m \u001b[0;32mor\u001b[0m \u001b[0mX\u001b[0m\u001b[0;34m.\u001b[0m\u001b[0mndim\u001b[0m \u001b[0;34m>\u001b[0m \u001b[0;36m2\u001b[0m\u001b[0;34m:\u001b[0m\u001b[0;34m\u001b[0m\u001b[0;34m\u001b[0m\u001b[0m\n\u001b[1;32m   1394\u001b[0m             raise ValueError(\n\u001b[0;32m-> 1395\u001b[0;31m                 \"Expected 1D or 2D array, got %dD array instead\" % X.ndim)\n\u001b[0m\u001b[1;32m   1396\u001b[0m         \u001b[0;32melif\u001b[0m \u001b[0mX\u001b[0m\u001b[0;34m.\u001b[0m\u001b[0mndim\u001b[0m \u001b[0;34m==\u001b[0m \u001b[0;36m1\u001b[0m\u001b[0;34m:\u001b[0m\u001b[0;34m\u001b[0m\u001b[0;34m\u001b[0m\u001b[0m\n\u001b[1;32m   1397\u001b[0m             \u001b[0;31m# Common case -- 1d array of numbers\u001b[0m\u001b[0;34m\u001b[0m\u001b[0;34m\u001b[0m\u001b[0;34m\u001b[0m\u001b[0m\n",
            "\u001b[0;31mValueError\u001b[0m: Expected 1D or 2D array, got 0D array instead"
          ]
        }
      ]
    },
    {
      "cell_type": "code",
      "metadata": {
        "id": "_UNt7BnM5K0c",
        "colab_type": "code",
        "colab": {
          "base_uri": "https://localhost:8080/",
          "height": 34
        },
        "outputId": "8b1c239e-1c6b-4b0e-8cd1-750e1b229367"
      },
      "source": [
        "print(history)"
      ],
      "execution_count": 48,
      "outputs": [
        {
          "output_type": "stream",
          "text": [
            "<tensorflow.python.keras.callbacks.History object at 0x7fed40b2ad30>\n"
          ],
          "name": "stdout"
        }
      ]
    },
    {
      "cell_type": "code",
      "metadata": {
        "id": "UkaR72tZ7G3w",
        "colab_type": "code",
        "colab": {
          "base_uri": "https://localhost:8080/",
          "height": 279
        },
        "outputId": "3d1cf49c-9f5e-40e8-fecc-f1e48db24d01"
      },
      "source": [
        "training_loss = history.history['loss']\n",
        "test_loss = history.history['val_loss']\n",
        "#test_loss = history.history['loss']\n",
        "# Create count of the number of epochs\n",
        "epoch_count = range(1, len(training_loss) + 1)\n",
        "\n",
        "# Visualize loss history\n",
        "plt.plot(epoch_count, training_loss, 'r--')\n",
        "plt.plot(epoch_count, test_loss, 'b-')\n",
        "plt.legend(['Training Loss', 'Test Loss'])\n",
        "plt.xlabel('Epoch')\n",
        "plt.ylabel('Loss')\n",
        "plt.show();"
      ],
      "execution_count": 49,
      "outputs": [
        {
          "output_type": "display_data",
          "data": {
            "image/png": "[encoded data removed]",
            "text/plain": [
              "<Figure size 432x288 with 1 Axes>"
            ]
          },
          "metadata": {
            "tags": [],
            "needs_background": "light"
          }
        }
      ]
    },
    {
      "cell_type": "code",
      "metadata": {
        "id": "i2PGO8K55wHv",
        "colab_type": "code",
        "colab": {}
      },
      "source": [
        "model.load_weights(rootDir + 'Capstone_best_model_6000_VL_min.h5')"
      ],
      "execution_count": null,
      "outputs": []
    },
    {
      "cell_type": "code",
      "metadata": {
        "id": "iJiq0Jyi7X4V",
        "colab_type": "code",
        "colab": {}
      },
      "source": [
        "print(model.load_weights(rootDir + 'Capstone_best_model_6000_VL_min.h5'))"
      ],
      "execution_count": null,
      "outputs": []
    }
  ]
}